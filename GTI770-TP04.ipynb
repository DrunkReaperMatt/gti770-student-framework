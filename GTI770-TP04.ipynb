{
 "cells": [
  {
   "cell_type": "markdown",
   "metadata": {},
   "source": [
    "# Laboratoire 4 : Développement d'un système intelligent\n",
    "#### Département du génie logiciel et des technologies de l’information\n",
    "\n",
    "| Étudiants             | NOMS - CODE PERMANENT                                   |\n",
    "|-----------------------|---------------------------------------------------------|\n",
    "| Cours                 | GTI770 - Systèmes intelligents et apprentissage machine |\n",
    "| Session               | SAISON ANNÉE                                            |\n",
    "| Groupe                | X                                                       |\n",
    "| Numéro du laboratoire | X                                                       |\n",
    "| Professeur            | Prof. NOM                                               |\n",
    "| Chargé de laboratoire | NOM                                                     |\n",
    "| Date                  | DATE                                                    |"
   ]
  },
  {
   "cell_type": "code",
   "execution_count": 1,
   "metadata": {},
   "outputs": [],
   "source": [
    "import numpy as np\n",
    "from custom.lab04.traitement import Traitement\n",
    "from custom.lab04.train import Train"
   ]
  },
  {
   "cell_type": "code",
   "execution_count": 2,
   "metadata": {},
   "outputs": [],
   "source": [
    "trh = Traitement()\n",
    "modeles = Train()\n",
    "\n",
    "dataset  = trh.Dataframe(\"data/csv/music/tagged_feature_sets/msd-trh_dev/msd-trh_dev.csv\", 420)\n",
    "classe = dataset['class']"
   ]
  },
  {
   "cell_type": "code",
   "execution_count": 9,
   "metadata": {},
   "outputs": [],
   "source": [
    "data  = dataset[dataset.columns.difference(['TRACKID', 'SAMPLEID', 'class'])]\n",
    "X = data.values\n",
    "Y = trh.Encoder(classe.values)\n",
    "trh.ExportModel(trh.Encoder(classe.values), \"labels\")\n",
    "mmsX = trh.MinMax(X)"
   ]
  },
  {
   "cell_type": "code",
   "execution_count": 4,
   "metadata": {},
   "outputs": [],
   "source": [
    "# avec shuffle\n",
    "dataRnd = dataset.sample(frac=.9).reset_index(drop=True)\n",
    "data  = dataRnd[dataRnd.columns.difference(['TRACKID', 'SAMPLEID', 'class'])]\n",
    "\n",
    "X2 = data.values\n",
    "Y2 = trh.Encoder(dataRnd['class'].values)\n",
    "\n",
    "mmsX2 = trh.MinMax(X2)"
   ]
  },
  {
   "cell_type": "code",
   "execution_count": 5,
   "metadata": {},
   "outputs": [],
   "source": [
    "## Shrinking\n",
    "X = trh.Shrinking(.95).fit_transform(X,Y)"
   ]
  },
  {
   "cell_type": "code",
   "execution_count": 11,
   "metadata": {},
   "outputs": [],
   "source": [
    "# Definission des modeles\n",
    "clf1 = modeles.DepthK(9)\n",
    "clf2 = modeles.Bernoulli()\n",
    "clf3 = modeles.RBF(c=1e-3, gamma=1e-6)\n",
    "estimators = [('Decision Tree', clf1),('Bayes', clf2),('SVM', clf3)]"
   ]
  },
  {
   "cell_type": "code",
   "execution_count": null,
   "metadata": {
    "scrolled": true
   },
   "outputs": [],
   "source": [
    "clfs = modeles.Vote(X, Y, estimators)\n",
    "trh.ExportModel(clfs, \"trh\")"
   ]
  },
  {
   "cell_type": "code",
   "execution_count": null,
   "metadata": {},
   "outputs": [],
   "source": []
  },
  {
   "cell_type": "code",
   "execution_count": null,
   "metadata": {},
   "outputs": [],
   "source": []
  },
  {
   "cell_type": "code",
   "execution_count": null,
   "metadata": {},
   "outputs": [],
   "source": [
    "clfs = [modeles.DepthK(1), modeles.DepthK(3), modeles.DepthK(5), modeles.DepthK(9), modeles.DepthK(10), modeles.DepthK(15)]\n",
    "dtAcc = []\n",
    "dtF1 = []\n",
    "\n",
    "for clf in clfs:\n",
    "    acc = modeles.AccuracyScore(clf, xlda, Y)\n",
    "    f1 = modeles.F1Score(clf, xlda, Y)\n",
    "    print('{2}: Acc {0} || F1 {1}'.format(acc, f1, clf))\n",
    "    dtAcc.append(acc)\n",
    "    dtF1.append(f1)\n",
    "    \n",
    "trh.PrintPlot(dtAcc, dtF1, ['1','3','5','9','10','15'])"
   ]
  },
  {
   "cell_type": "code",
   "execution_count": null,
   "metadata": {},
   "outputs": [],
   "source": [
    "clf = stuff.DepthK(40)\n",
    "acc = stuff.AccuracyScore(clf, xlda, Y)\n",
    "f1 = stuff.F1Score(clf, xlda, Y)\n",
    "print('{2}: Acc {0} || F1 {1}'.format(acc, f1, clf))\n",
    "\n",
    "acc = stuff.AccuracyScore(clf, xldaRnd, Y2)\n",
    "f1 = stuff.F1Score(clf, xldaRnd, Y2)\n",
    "print('{2}: Acc {0} || F1 {1}'.format(acc, f1, clf))\n",
    "\n",
    "clf = stuff.DepthK(40)\n",
    "acc = stuff.AccuracyScore(clf, X_shrunk, Y)\n",
    "f1 = stuff.F1Score(clf, X_shrunk, Y)\n",
    "print('{2}: Acc {0} || F1 {1}'.format(acc, f1, clf))\n",
    "\n",
    "acc = stuff.AccuracyScore(clf, Xrnd_shrunk, Y2)\n",
    "f1 = stuff.F1Score(clf, Xrnd_shrunk, Y2)\n",
    "print('{2}: Acc {0} || F1 {1}'.format(acc, f1, clf))"
   ]
  },
  {
   "cell_type": "code",
   "execution_count": null,
   "metadata": {},
   "outputs": [],
   "source": [
    "clf = modeles.DepthK(40)\n",
    "clf.fit(xlda, Y)"
   ]
  },
  {
   "cell_type": "code",
   "execution_count": null,
   "metadata": {},
   "outputs": [],
   "source": []
  },
  {
   "cell_type": "markdown",
   "metadata": {},
   "source": [
    "## Introduction et revue de la littérature"
   ]
  },
  {
   "cell_type": "markdown",
   "metadata": {},
   "source": [
    "## Question 2\n",
    "### Configuration de l'environnement"
   ]
  },
  {
   "cell_type": "markdown",
   "metadata": {},
   "source": [
    "### Partitionnement des données"
   ]
  },
  {
   "cell_type": "markdown",
   "metadata": {},
   "source": [
    "### Validation"
   ]
  },
  {
   "cell_type": "markdown",
   "metadata": {},
   "source": [
    "### Prétraitement"
   ]
  },
  {
   "cell_type": "markdown",
   "metadata": {},
   "source": [
    "## Question 3\n",
    "### Description des modèles et justifications"
   ]
  },
  {
   "cell_type": "markdown",
   "metadata": {},
   "source": [
    "## Question 4\n",
    "### Matrice des expérimentations"
   ]
  },
  {
   "cell_type": "markdown",
   "metadata": {},
   "source": [
    "### Matrice des résultats de l'étude des hyperparamètres"
   ]
  },
  {
   "cell_type": "markdown",
   "metadata": {},
   "source": [
    "### Graphiques"
   ]
  },
  {
   "cell_type": "markdown",
   "metadata": {},
   "source": [
    "### Discussion"
   ]
  },
  {
   "cell_type": "markdown",
   "metadata": {},
   "source": [
    "## Question 5\n",
    "### Présentation de la conception"
   ]
  },
  {
   "cell_type": "markdown",
   "metadata": {},
   "source": [
    "## Question 6\n",
    "### Hyperparamètres des modèles choisis dans la conception"
   ]
  },
  {
   "cell_type": "markdown",
   "metadata": {},
   "source": [
    "### Matrice des résultats"
   ]
  },
  {
   "cell_type": "markdown",
   "metadata": {},
   "source": [
    "### Discussion"
   ]
  },
  {
   "cell_type": "markdown",
   "metadata": {},
   "source": [
    "## Question 7 \n",
    "### Formulation des recommandations"
   ]
  },
  {
   "cell_type": "markdown",
   "metadata": {},
   "source": [
    "## Conclusion"
   ]
  }
 ],
 "metadata": {
  "kernelspec": {
   "display_name": "Python 3",
   "language": "python",
   "name": "python3"
  },
  "language_info": {
   "codemirror_mode": {
    "name": "ipython",
    "version": 3
   },
   "file_extension": ".py",
   "mimetype": "text/x-python",
   "name": "python",
   "nbconvert_exporter": "python",
   "pygments_lexer": "ipython3",
   "version": "3.6.6"
  }
 },
 "nbformat": 4,
 "nbformat_minor": 2
}
