{
 "cells": [
  {
   "cell_type": "markdown",
   "metadata": {},
   "source": [
    "# Laboratoire 4 : Développement d'un système intelligent\n",
    "#### Département du génie logiciel et des technologies de l’information\n",
    "\n",
    "| Étudiants             | NOMS - CODE PERMANENT                                   |\n",
    "|-----------------------|---------------------------------------------------------|\n",
    "| Cours                 | GTI770 - Systèmes intelligents et apprentissage machine |\n",
    "| Session               | SAISON ANNÉE                                            |\n",
    "| Groupe                | X                                                       |\n",
    "| Numéro du laboratoire | X                                                       |\n",
    "| Professeur            | Prof. NOM                                               |\n",
    "| Chargé de laboratoire | NOM                                                     |\n",
    "| Date                  | DATE                                                    |"
   ]
  },
  {
   "cell_type": "code",
   "execution_count": 1,
   "metadata": {},
   "outputs": [],
   "source": [
    "import numpy as np\n",
    "from custom.lab04.traitement import Traitement\n",
    "from custom.lab04.train import Train"
   ]
  },
  {
   "cell_type": "code",
   "execution_count": 18,
   "metadata": {},
   "outputs": [],
   "source": [
    "import matplotlib.pyplot as plt\n",
    "import pandas as pd\n",
    "def PrintPlot(self, accscore, f1score, labels, title=\"Plot\"):\n",
    "    df = pd.DataFrame(dict(x=accscore, y=f1score, label=labels))\n",
    "    groups = df.groupby('label')\n",
    "\n",
    "    fig, axe = plt.subplots()\n",
    "\n",
    "    for name, group in groups:\n",
    "        axe.plot(group.x, group.y, marker='o', linestyle='', ms=12, label=name)\n",
    "    axe.legend(numpoints=1, loc='upper left')\n",
    "    plt.xlabel(\"Accuracy Score\")\n",
    "    plt.ylabel(\"F1 Score\")\n",
    "    plt.title(title)\n",
    "    plt.show()"
   ]
  },
  {
   "cell_type": "code",
   "execution_count": 2,
   "metadata": {},
   "outputs": [],
   "source": [
    "trh = Traitement()\n",
    "stuff = Train()\n",
    "\n",
    "index = ['SAMPLEID', 'TRACKID']\n",
    "for i in range(420):\n",
    "    index.append('component_{}'.format(i))\n",
    "index.append('class')\n",
    "\n",
    "dataset  = trh.Dataframe(\"data/csv/music/tagged_feature_sets/msd-trh_dev/msd-trh_dev.csv\", index)\n",
    "trainset = trh.Dataframe(\"data/csv/music/untagged_feature_sets/msd-trh_test_nolabels/msd-trh_test_nolabels.csv\", index)\n",
    "classe = dataset['class']"
   ]
  },
  {
   "cell_type": "code",
   "execution_count": 3,
   "metadata": {},
   "outputs": [],
   "source": [
    "data  = dataset[dataset.columns.difference(['TRACKID', 'SAMPLEID', 'class'])]\n",
    "train = trainset[trainset.columns.difference(['TRACKID', 'SAMPLEID', 'class'])]\n",
    "\n",
    "X = data.values\n",
    "Y = trh.Encoder(classe.values)\n",
    "\n",
    "trainX = train.values"
   ]
  },
  {
   "cell_type": "code",
   "execution_count": 44,
   "metadata": {},
   "outputs": [],
   "source": [
    "## Shrinking\n",
    "\n",
    "from sklearn.discriminant_analysis import LinearDiscriminantAnalysis\n",
    "from sklearn.decomposition import PCA\n",
    "\n",
    "lda = LinearDiscriminantAnalysis(solver='lsqr', shrinkage=1)\n",
    "pca = PCA(n_components=200 , svd_solver='auto')\n",
    "\n",
    "#lda.fit(X, Y)\n",
    "X_shrunk = pca.fit_transform(X, Y)"
   ]
  },
  {
   "cell_type": "code",
   "execution_count": 45,
   "metadata": {},
   "outputs": [
    {
     "name": "stdout",
     "output_type": "stream",
     "text": [
      "(179555, 200)\n",
      "[ 2.80944967e+01 -8.27309972e-02 -1.28313976e+01 -3.28839452e+00\n",
      "  2.37052006e+00  4.19862911e+00  4.90481383e+00 -3.64345921e+00\n",
      " -1.34903733e+00  3.39801456e+00 -7.63701269e+00 -2.35259630e+00\n",
      "  1.14535880e+00  8.80794207e-01 -1.64459804e+00 -1.99626644e+00\n",
      " -2.71690477e-01 -2.27797481e+00 -3.33941877e-01  6.92677210e-01\n",
      "  1.60856356e+00 -2.58982976e+00  1.91577691e+00  2.70253736e+00\n",
      " -1.17512243e-01 -8.89992588e-01  1.41460196e+00 -1.80390217e+00\n",
      " -2.75295727e+00 -1.68415976e+00  3.13564636e+00 -1.45954185e+00\n",
      " -1.93342155e+00 -1.75821034e-01  3.14927869e-01  5.36686395e-02\n",
      "  5.68188634e-01  2.43838469e+00 -1.82519521e+00  1.49239181e+00\n",
      "  1.04334256e+00 -2.54010802e-01  5.78800177e-01  1.35432177e+00\n",
      " -4.53696287e-01 -1.03692423e+00  6.06207351e-01 -1.14713054e+00\n",
      "  8.78838182e-02  7.58383971e-01  2.45374918e-01 -9.73533491e-01\n",
      " -3.32350712e-01  5.67829356e-01  2.72097470e-01 -1.91113981e+00\n",
      "  8.81854820e-01  1.49720461e+00  1.46961383e-01  3.50169791e-02\n",
      " -8.76136319e-01 -2.48211564e-01  8.85234925e-01 -7.15644561e-01\n",
      " -7.27972760e-01 -1.83331488e-01 -2.92674540e-02  1.24392177e+00\n",
      " -1.47521532e-02  2.47249084e-02  2.76990591e-01 -3.20466486e-01\n",
      " -1.47496118e-01  1.46960807e-01  3.15195745e-01  3.54485105e-01\n",
      " -4.37159489e-01 -4.55968612e-01  1.95961928e+00  2.60557497e-01\n",
      "  1.57448353e-01  6.84805047e-01 -3.78913935e-02 -1.29933284e-01\n",
      "  1.36936375e-01  4.37628115e-01 -4.48433301e-01 -4.20427028e-01\n",
      "  1.83615189e-02 -2.29992378e-01 -6.58923041e-01  1.06948226e+00\n",
      "  1.77817074e-02 -3.10596664e-01  3.31215930e-01  1.17094213e-01\n",
      "  3.54826747e-01 -3.44487271e-01  2.33808440e-01 -1.55853621e-01\n",
      "  1.61203927e-01 -1.00837716e-01  2.29734547e-01 -6.02373991e-01\n",
      " -2.13639545e+00 -2.43857031e-01  1.57684220e-01 -3.96434370e-01\n",
      "  3.96654518e-01  3.17296687e-01 -3.61025874e-01  2.24478731e-01\n",
      "  1.66706168e+00  7.21611197e-01  1.14065592e-01 -1.64611054e-01\n",
      " -6.91434266e-01  3.65350922e-01  5.81199507e-03  5.16762496e-01\n",
      " -7.09701810e-01 -2.96458427e-01 -6.25372550e-01  6.27805367e-01\n",
      " -2.93153332e-01  3.85718648e-01  6.72716526e-01 -1.20189745e+00\n",
      "  4.75971168e-01  1.06556820e-01  1.49675879e+00 -1.46922339e+00\n",
      " -1.30015207e-01 -3.89470474e-02 -5.48846932e-01  2.37412926e-01\n",
      " -1.13170377e+00 -1.24527470e-02 -6.50783698e-01 -1.00781520e-01\n",
      " -2.75072783e-01 -8.76404208e-02  3.57966868e-01 -1.76350428e-01\n",
      "  1.06219053e+00 -5.00466287e-01 -5.83952542e-01 -4.77925600e-01\n",
      "  7.18299765e-01  2.44304278e-01 -2.05619226e-01 -1.01453182e-01\n",
      "  6.63773952e-01 -1.57536462e+00  1.25273147e-01  2.44659255e-01\n",
      " -2.75338731e-01  7.45836153e-01  6.90804578e-01  3.34745136e-01\n",
      " -3.02474633e-01  2.65660549e-01  1.24636529e+00  5.11806822e-02\n",
      " -1.01676447e-01 -8.02538118e-01 -1.06610132e-01 -7.62646405e-01\n",
      " -3.20890743e-01 -2.95093524e-01  2.52157122e-01 -8.96596852e-01\n",
      "  3.93757196e-01  1.69244879e-03  2.44253948e-02  7.48215004e-02\n",
      "  9.55226244e-02 -5.36050451e-01  5.88363767e-01  8.34512489e-02\n",
      "  3.12885334e-01  7.80166884e-01 -5.73579641e-02  1.30158826e+00\n",
      "  1.38094355e-01  3.11730307e-01  1.72652336e-01 -4.05257510e-01\n",
      " -6.35934544e-01  5.08374341e-02  1.51686561e-01  1.18013702e-02\n",
      "  1.82603257e-01 -2.50253034e-01 -5.52188594e-01  4.90719769e-01\n",
      " -1.48547022e-01 -6.80762013e-01  4.89984528e-01 -6.21023134e-01]\n"
     ]
    }
   ],
   "source": [
    "print(X_shrunk.shape)\n",
    "print(X_shrunk[0])"
   ]
  },
  {
   "cell_type": "code",
   "execution_count": 36,
   "metadata": {},
   "outputs": [],
   "source": [
    "clf1 = stuff.Distance(15)\n",
    "#clf2 = stuff.Bernoulli()\n",
    "#clf3 = stuff.RBF()\n",
    "#estimators = [('Knn', clf1),('Bayes', clf2),('SVM', clf3)]"
   ]
  },
  {
   "cell_type": "code",
   "execution_count": null,
   "metadata": {},
   "outputs": [],
   "source": [
    "knnAcc = stuff.AccuracyScore(clf1, X_shrunk, Y)\n",
    "knnF1  = stuff.F1Score(clf1, X_shrunk, Y)\n",
    "\n",
    "#stuff.Vote(X, Y, trainX, estimators)"
   ]
  },
  {
   "cell_type": "code",
   "execution_count": 20,
   "metadata": {},
   "outputs": [
    {
     "name": "stdout",
     "output_type": "stream",
     "text": [
      "Acc 0.15013229730801442 || F1 0.13374593194537182\n"
     ]
    }
   ],
   "source": [
    "print('Acc {0} || F1 {1}'.format(knnAcc, knnF1))"
   ]
  },
  {
   "cell_type": "markdown",
   "metadata": {},
   "source": [
    "## Introduction et revue de la littérature"
   ]
  },
  {
   "cell_type": "markdown",
   "metadata": {},
   "source": [
    "## Question 2\n",
    "### Configuration de l'environnement"
   ]
  },
  {
   "cell_type": "markdown",
   "metadata": {},
   "source": [
    "### Partitionnement des données"
   ]
  },
  {
   "cell_type": "markdown",
   "metadata": {},
   "source": [
    "### Validation"
   ]
  },
  {
   "cell_type": "markdown",
   "metadata": {},
   "source": [
    "### Prétraitement"
   ]
  },
  {
   "cell_type": "markdown",
   "metadata": {},
   "source": [
    "## Question 3\n",
    "### Description des modèles et justifications"
   ]
  },
  {
   "cell_type": "markdown",
   "metadata": {},
   "source": [
    "## Question 4\n",
    "### Matrice des expérimentations"
   ]
  },
  {
   "cell_type": "markdown",
   "metadata": {},
   "source": [
    "### Matrice des résultats de l'étude des hyperparamètres"
   ]
  },
  {
   "cell_type": "markdown",
   "metadata": {},
   "source": [
    "### Graphiques"
   ]
  },
  {
   "cell_type": "markdown",
   "metadata": {},
   "source": [
    "### Discussion"
   ]
  },
  {
   "cell_type": "markdown",
   "metadata": {},
   "source": [
    "## Question 5\n",
    "### Présentation de la conception"
   ]
  },
  {
   "cell_type": "markdown",
   "metadata": {},
   "source": [
    "## Question 6\n",
    "### Hyperparamètres des modèles choisis dans la conception"
   ]
  },
  {
   "cell_type": "markdown",
   "metadata": {},
   "source": [
    "### Matrice des résultats"
   ]
  },
  {
   "cell_type": "markdown",
   "metadata": {},
   "source": [
    "### Discussion"
   ]
  },
  {
   "cell_type": "markdown",
   "metadata": {},
   "source": [
    "## Question 7 \n",
    "### Formulation des recommandations"
   ]
  },
  {
   "cell_type": "markdown",
   "metadata": {},
   "source": [
    "## Conclusion"
   ]
  }
 ],
 "metadata": {
  "kernelspec": {
   "display_name": "Python 3",
   "language": "python",
   "name": "python3"
  },
  "language_info": {
   "codemirror_mode": {
    "name": "ipython",
    "version": 3
   },
   "file_extension": ".py",
   "mimetype": "text/x-python",
   "name": "python",
   "nbconvert_exporter": "python",
   "pygments_lexer": "ipython3",
   "version": "3.6.6"
  }
 },
 "nbformat": 4,
 "nbformat_minor": 2
}
