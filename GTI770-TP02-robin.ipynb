{
 "cells": [
  {
   "cell_type": "markdown",
   "metadata": {},
   "source": [
    "# Laboratoire 2 : Arbre de désision, Bayes naïf et KNN\n",
    "#### Département du génie logiciel et des technologies de l’information\n",
    "\n",
    "| Étudiants             | NOMS - CODE PERMANENT                                   |\n",
    "|-----------------------|---------------------------------------------------------|\n",
    "| Cours                 | GTI770 - Systèmes intelligents et apprentissage machine |\n",
    "| Session               | SAISON ANNÉE                                            |\n",
    "| Groupe                | X                                                       |\n",
    "| Numéro du laboratoire | X                                                       |\n",
    "| Professeur            | Prof. NOM                                               |\n",
    "| Chargé de laboratoire | NOM                                                     |\n",
    "| Date                  | DATE                                                    |"
   ]
  },
  {
   "cell_type": "code",
   "execution_count": 6,
   "metadata": {},
   "outputs": [],
   "source": [
    "import numpy as np\n",
    "from custom.lab02.matrix import Matrix\n",
    "from sklearn.naive_bayes import GaussianNB, MultinomialNB\n",
    "from sklearn.preprocessing import MinMaxScaler, KBinsDiscretizer\n",
    "from sklearn.model_selection import KFold\n",
    "from sklearn.metrics import accuracy_score, f1_score\n",
    "import pandas as pd\n",
    "\n",
    "%matplotlib inline\n",
    "import matplotlib.pyplot as plt"
   ]
  },
  {
   "cell_type": "code",
   "execution_count": 9,
   "metadata": {},
   "outputs": [],
   "source": [
    "galaxy = Matrix(\"data/csv/galaxy/galaxy_feature_vectors.csv\")\n",
    "spam = Matrix(\"data/csv/spam/spam.csv\")\n",
    "\n",
    "galaxy.ParseFile()\n",
    "spam.ParseFile()\n",
    "\n",
    "spamWord = spam.getPrimitive()\n",
    "train, valid  = spam.CreateTestSet(spamWord, 20)"
   ]
  },
  {
   "cell_type": "code",
   "execution_count": 10,
   "metadata": {},
   "outputs": [
    {
     "name": "stdout",
     "output_type": "stream",
     "text": [
      "Gaussian scores: Accuracy: 0.7862318840579711 ; F1: 0.7917221860311056\n",
      "Multinomial scores: Accuracy: 0.8768115942028986 ; F1: 0.8783423116496374\n",
      "MinMax Scaler scores: Accuracy: 0.9293478260869565 ; F1: 0.9301230706319968\n",
      "Non-Supeerviser scores: Accuracy: 0.7681159420289855 ; F1: 0.7735609927829606\n"
     ]
    }
   ],
   "source": [
    "X = []\n",
    "Y = []\n",
    "trainX = []\n",
    "trainY = []\n",
    "\n",
    "for line in valid:\n",
    "    X.append(line[:-1])\n",
    "    Y.append(line[-1])\n",
    "    \n",
    "for line in train:\n",
    "    trainX.append(line[:-1])\n",
    "    trainY.append(line[-1])\n",
    "    \n",
    "X = np.array(X)\n",
    "Y = np.array(Y)\n",
    "\n",
    "#Gaussian Naive Bayes\n",
    "gnb = GaussianNB()\n",
    "gnb.fit(X, Y)\n",
    "y_gnb = gnb.predict(trainX)\n",
    "\n",
    "#Multinomial Naive Bayes\n",
    "mnb = MultinomialNB()\n",
    "mnb.fit(X, Y)\n",
    "y_mnb = mnb.predict(trainX)\n",
    "\n",
    "##MinMax Scaler\n",
    "mms = MinMaxScaler()\n",
    "X_minmax = mms.fit_transform(X)\n",
    "train_minmax = mms.fit_transform(trainX)\n",
    "mnb.fit(X_minmax,Y)\n",
    "y_mms = mnb.predict(train_minmax)\n",
    "\n",
    "##Dicrestisation non-superviser\n",
    "kbd = KBinsDiscretizer()\n",
    "X_KBD = kbd.fit_transform(X)\n",
    "train_KBD = kbd.fit_transform(trainX)\n",
    "mnb.fit(X_KBD,Y)\n",
    "y_kbd = mnb.predict(train_KBD)\n",
    "\n",
    "\n",
    "asgnb, f1gnb = spam.PrintMetricsScore(trainY, y_gnb, \"Gaussian\")\n",
    "asmnb, f1mnb = spam.PrintMetricsScore(trainY, y_mnb, \"Multinomial\")\n",
    "asmms, f1mms = spam.PrintMetricsScore(trainY, y_mms, \"MinMax Scaler\")\n",
    "askbd, f1kbd = spam.PrintMetricsScore(trainY, y_kbd, \"Non-Supeerviser\")"
   ]
  },
  {
   "cell_type": "code",
   "execution_count": null,
   "metadata": {},
   "outputs": [],
   "source": [
    "\n"
   ]
  },
  {
   "cell_type": "code",
   "execution_count": 12,
   "metadata": {},
   "outputs": [
    {
     "ename": "ValueError",
     "evalue": "Expected 2D array, got 1D array instead:\narray=[  0.      1.17    0.      0.      0.      0.      0.      0.      1.17\n   0.      0.      0.      0.      0.      0.      0.      0.      0.\n   0.      0.      0.      0.      0.      0.      0.      1.17    2.35\n   0.      0.      0.      0.      0.      0.      0.      0.      0.\n   1.17    0.      0.      0.      0.      0.      0.      0.      0.\n   0.      0.      1.17    0.376   0.      0.      0.      0.      0.\n   2.925  16.    117.      0.   ].\nReshape your data either using array.reshape(-1, 1) if your data has a single feature or array.reshape(1, -1) if it contains a single sample.",
     "output_type": "error",
     "traceback": [
      "\u001b[1;31m---------------------------------------------------------------------------\u001b[0m",
      "\u001b[1;31mValueError\u001b[0m                                Traceback (most recent call last)",
      "\u001b[1;32m<ipython-input-12-62106c03868c>\u001b[0m in \u001b[0;36m<module>\u001b[1;34m\u001b[0m\n\u001b[0;32m     35\u001b[0m \u001b[1;32mfor\u001b[0m \u001b[0mentry\u001b[0m \u001b[1;32min\u001b[0m \u001b[0mvalid\u001b[0m\u001b[1;33m:\u001b[0m\u001b[1;33m\u001b[0m\u001b[0m\n\u001b[0;32m     36\u001b[0m     \u001b[1;31m# we predict the entry value\u001b[0m\u001b[1;33m\u001b[0m\u001b[1;33m\u001b[0m\u001b[0m\n\u001b[1;32m---> 37\u001b[1;33m     \u001b[0mresult\u001b[0m \u001b[1;33m=\u001b[0m \u001b[0mdlc\u001b[0m\u001b[1;33m.\u001b[0m\u001b[0mpredict\u001b[0m\u001b[1;33m(\u001b[0m\u001b[0mentry\u001b[0m\u001b[1;33m)\u001b[0m\u001b[1;33m\u001b[0m\u001b[0m\n\u001b[0m\u001b[0;32m     38\u001b[0m \u001b[1;33m\u001b[0m\u001b[0m\n\u001b[0;32m     39\u001b[0m     \u001b[1;32mif\u001b[0m\u001b[1;33m(\u001b[0m\u001b[0mresults\u001b[0m \u001b[1;33m==\u001b[0m \u001b[1;34m\"spam\"\u001b[0m\u001b[1;33m)\u001b[0m\u001b[1;33m:\u001b[0m\u001b[1;33m\u001b[0m\u001b[0m\n",
      "\u001b[1;32m~\\AppData\\Local\\conda\\conda\\envs\\gti770\\lib\\site-packages\\sklearn\\tree\\tree.py\u001b[0m in \u001b[0;36mpredict\u001b[1;34m(self, X, check_input)\u001b[0m\n\u001b[0;32m    413\u001b[0m         \"\"\"\n\u001b[0;32m    414\u001b[0m         \u001b[0mcheck_is_fitted\u001b[0m\u001b[1;33m(\u001b[0m\u001b[0mself\u001b[0m\u001b[1;33m,\u001b[0m \u001b[1;34m'tree_'\u001b[0m\u001b[1;33m)\u001b[0m\u001b[1;33m\u001b[0m\u001b[0m\n\u001b[1;32m--> 415\u001b[1;33m         \u001b[0mX\u001b[0m \u001b[1;33m=\u001b[0m \u001b[0mself\u001b[0m\u001b[1;33m.\u001b[0m\u001b[0m_validate_X_predict\u001b[0m\u001b[1;33m(\u001b[0m\u001b[0mX\u001b[0m\u001b[1;33m,\u001b[0m \u001b[0mcheck_input\u001b[0m\u001b[1;33m)\u001b[0m\u001b[1;33m\u001b[0m\u001b[0m\n\u001b[0m\u001b[0;32m    416\u001b[0m         \u001b[0mproba\u001b[0m \u001b[1;33m=\u001b[0m \u001b[0mself\u001b[0m\u001b[1;33m.\u001b[0m\u001b[0mtree_\u001b[0m\u001b[1;33m.\u001b[0m\u001b[0mpredict\u001b[0m\u001b[1;33m(\u001b[0m\u001b[0mX\u001b[0m\u001b[1;33m)\u001b[0m\u001b[1;33m\u001b[0m\u001b[0m\n\u001b[0;32m    417\u001b[0m         \u001b[0mn_samples\u001b[0m \u001b[1;33m=\u001b[0m \u001b[0mX\u001b[0m\u001b[1;33m.\u001b[0m\u001b[0mshape\u001b[0m\u001b[1;33m[\u001b[0m\u001b[1;36m0\u001b[0m\u001b[1;33m]\u001b[0m\u001b[1;33m\u001b[0m\u001b[0m\n",
      "\u001b[1;32m~\\AppData\\Local\\conda\\conda\\envs\\gti770\\lib\\site-packages\\sklearn\\tree\\tree.py\u001b[0m in \u001b[0;36m_validate_X_predict\u001b[1;34m(self, X, check_input)\u001b[0m\n\u001b[0;32m    374\u001b[0m         \u001b[1;34m\"\"\"Validate X whenever one tries to predict, apply, predict_proba\"\"\"\u001b[0m\u001b[1;33m\u001b[0m\u001b[0m\n\u001b[0;32m    375\u001b[0m         \u001b[1;32mif\u001b[0m \u001b[0mcheck_input\u001b[0m\u001b[1;33m:\u001b[0m\u001b[1;33m\u001b[0m\u001b[0m\n\u001b[1;32m--> 376\u001b[1;33m             \u001b[0mX\u001b[0m \u001b[1;33m=\u001b[0m \u001b[0mcheck_array\u001b[0m\u001b[1;33m(\u001b[0m\u001b[0mX\u001b[0m\u001b[1;33m,\u001b[0m \u001b[0mdtype\u001b[0m\u001b[1;33m=\u001b[0m\u001b[0mDTYPE\u001b[0m\u001b[1;33m,\u001b[0m \u001b[0maccept_sparse\u001b[0m\u001b[1;33m=\u001b[0m\u001b[1;34m\"csr\"\u001b[0m\u001b[1;33m)\u001b[0m\u001b[1;33m\u001b[0m\u001b[0m\n\u001b[0m\u001b[0;32m    377\u001b[0m             if issparse(X) and (X.indices.dtype != np.intc or\n\u001b[0;32m    378\u001b[0m                                 X.indptr.dtype != np.intc):\n",
      "\u001b[1;32m~\\AppData\\Local\\conda\\conda\\envs\\gti770\\lib\\site-packages\\sklearn\\utils\\validation.py\u001b[0m in \u001b[0;36mcheck_array\u001b[1;34m(array, accept_sparse, accept_large_sparse, dtype, order, copy, force_all_finite, ensure_2d, allow_nd, ensure_min_samples, ensure_min_features, warn_on_dtype, estimator)\u001b[0m\n\u001b[0;32m    545\u001b[0m                     \u001b[1;34m\"Reshape your data either using array.reshape(-1, 1) if \"\u001b[0m\u001b[1;33m\u001b[0m\u001b[0m\n\u001b[0;32m    546\u001b[0m                     \u001b[1;34m\"your data has a single feature or array.reshape(1, -1) \"\u001b[0m\u001b[1;33m\u001b[0m\u001b[0m\n\u001b[1;32m--> 547\u001b[1;33m                     \"if it contains a single sample.\".format(array))\n\u001b[0m\u001b[0;32m    548\u001b[0m \u001b[1;33m\u001b[0m\u001b[0m\n\u001b[0;32m    549\u001b[0m         \u001b[1;31m# in the future np.flexible dtypes will be handled like object dtypes\u001b[0m\u001b[1;33m\u001b[0m\u001b[1;33m\u001b[0m\u001b[0m\n",
      "\u001b[1;31mValueError\u001b[0m: Expected 2D array, got 1D array instead:\narray=[  0.      1.17    0.      0.      0.      0.      0.      0.      1.17\n   0.      0.      0.      0.      0.      0.      0.      0.      0.\n   0.      0.      0.      0.      0.      0.      0.      1.17    2.35\n   0.      0.      0.      0.      0.      0.      0.      0.      0.\n   1.17    0.      0.      0.      0.      0.      0.      0.      0.\n   0.      0.      1.17    0.376   0.      0.      0.      0.      0.\n   2.925  16.    117.      0.   ].\nReshape your data either using array.reshape(-1, 1) if your data has a single feature or array.reshape(1, -1) if it contains a single sample."
     ]
    }
   ],
   "source": [
    "from sklearn import tree\n",
    "\n",
    "# first array for the classification containing the samples and the features of said samples\n",
    "X = [train[56],train]\n",
    "\n",
    "# second array for decision tree classifier\n",
    "Y = [\"spam\",\"non-spam\"]\n",
    "\n",
    "X = []\n",
    "Y = []\n",
    "trainX = []\n",
    "trainY = []\n",
    "\n",
    "for line in valid:\n",
    "    X.append(line[:-1])\n",
    "    Y.append(line[-1])\n",
    "    \n",
    "for line in train:\n",
    "    trainX.append(line[:-1])\n",
    "    trainY.append(line[-1])\n",
    "    \n",
    "X = np.array(X)\n",
    "Y = np.array(Y)\n",
    "\n",
    "dlc = tree.DecisionTreeClassifier()\n",
    "dlc = dlc.fit(X,Y)\n",
    "\n",
    "spams = 0\n",
    "notSpams = 0\n",
    "\n",
    "trueSpams = 0\n",
    "trueNotSpams = 0\n",
    "\n",
    "# we then use the fitted model to predict the results of the valid array and count the amount in each category\n",
    "for entry in valid:\n",
    "    # we predict the entry value\n",
    "    result = dlc.predict(entry)\n",
    "\n",
    "    if(results == \"spam\"):\n",
    "        spams += 1\n",
    "    else:\n",
    "        notSpams += 1\n",
    "\n",
    "for entry in valid:\n",
    "    if(valid[56] == \"spam\"):\n",
    "        trueSpams += 1      \n",
    "    else:\n",
    "        trueNotSpams += 1\n",
    "        \n",
    "        \n",
    "# calculating the spam ratio        \n",
    "spamRatio = spam/(spams + notSpams)\n",
    "\n",
    "# calculating the true spam ratio\n",
    "trueSpamRatio = trueSpams/(trueSpams + trueNotSpams)"
   ]
  },
  {
   "cell_type": "code",
   "execution_count": 13,
   "metadata": {},
   "outputs": [],
   "source": [
    "# cross validation\n",
    "# since the current algo uses data randomly picked from the primitives\n",
    "# file, we need to recreate the whole thing.(we want set primitive sets)\n",
    "\n",
    "def CreateCVTestSet(self, dataset, nbOfSets, setToTest):\n",
    "    setSize = int(self.filelength / nbOfSets)\n",
    "    \n",
    "    k = int(setSize * setToTest)\n",
    "    \n",
    "    # we set the valid set and training set\n",
    "    validSet = dataset[k:k+setSize+1]\n",
    "    trainSet = dataset[0:k+1] + dataset[k+setSize+1:self.filelength]\n",
    "    \n",
    "    return trainSet, validSet\n",
    "    \n",
    "    "
   ]
  },
  {
   "cell_type": "code",
   "execution_count": 14,
   "metadata": {},
   "outputs": [
    {
     "ename": "AttributeError",
     "evalue": "'Matrix' object has no attribute 'CreateCVTestSet'",
     "output_type": "error",
     "traceback": [
      "\u001b[1;31m---------------------------------------------------------------------------\u001b[0m",
      "\u001b[1;31mAttributeError\u001b[0m                            Traceback (most recent call last)",
      "\u001b[1;32m<ipython-input-14-2cf98512ba73>\u001b[0m in \u001b[0;36m<module>\u001b[1;34m()\u001b[0m\n\u001b[0;32m      4\u001b[0m \u001b[1;32mwhile\u001b[0m\u001b[1;33m(\u001b[0m\u001b[0mcounter\u001b[0m \u001b[1;33m<\u001b[0m \u001b[1;36m10\u001b[0m\u001b[1;33m)\u001b[0m\u001b[1;33m:\u001b[0m\u001b[1;33m\u001b[0m\u001b[0m\n\u001b[0;32m      5\u001b[0m     \u001b[1;31m# we get the trainSet and validationSet for the current set to test\u001b[0m\u001b[1;33m\u001b[0m\u001b[1;33m\u001b[0m\u001b[0m\n\u001b[1;32m----> 6\u001b[1;33m     \u001b[0mtrain\u001b[0m\u001b[1;33m,\u001b[0m \u001b[0mvalid\u001b[0m  \u001b[1;33m=\u001b[0m \u001b[0mspam\u001b[0m\u001b[1;33m.\u001b[0m\u001b[0mCreateCVTestSet\u001b[0m\u001b[1;33m(\u001b[0m\u001b[0mspamWord\u001b[0m\u001b[1;33m,\u001b[0m \u001b[1;36m10\u001b[0m\u001b[1;33m,\u001b[0m \u001b[0mcounter\u001b[0m\u001b[1;33m)\u001b[0m\u001b[1;33m\u001b[0m\u001b[0m\n\u001b[0m\u001b[0;32m      7\u001b[0m \u001b[1;33m\u001b[0m\u001b[0m\n\u001b[0;32m      8\u001b[0m     \u001b[1;31m# we do the algorithm\u001b[0m\u001b[1;33m\u001b[0m\u001b[1;33m\u001b[0m\u001b[0m\n",
      "\u001b[1;31mAttributeError\u001b[0m: 'Matrix' object has no attribute 'CreateCVTestSet'"
     ]
    }
   ],
   "source": [
    "# cross validation in action\n",
    "counter = 0\n",
    "\n",
    "totalAScore = 0;\n",
    "totalf1 = 0\n",
    "\n",
    "while(counter < 10):\n",
    "    # we get the trainSet and validationSet for the current set to test\n",
    "    train, valid  = spam.CreateCVTestSet(spamWord, 10, counter)\n",
    "    \n",
    "    # we do the algorithm\n",
    "    X = []\n",
    "    Y = []\n",
    "    trainX = []\n",
    "    trainY = []\n",
    "\n",
    "    for line in valid:\n",
    "        X.append(line[:-1])\n",
    "        Y.append(line[-1])\n",
    "\n",
    "    for line in train:\n",
    "        trainX.append(line[:-1])\n",
    "        trainY.append(line[-1])\n",
    "\n",
    "    X = np.array(X)\n",
    "    Y = np.array(Y)\n",
    "\n",
    "    mnb = MultinomialNB()\n",
    "\n",
    "    ##MinMax Scaler\n",
    "    mms = MinMaxScaler()\n",
    "    X_minmax = mms.fit_transform(X)\n",
    "    train_minmax = mms.fit_transform(trainX)\n",
    "    mnb.fit(X_minmax,Y)\n",
    "    y_mms = mnb.predict(train_minmax)\n",
    "    \n",
    "    \n",
    "    # we get the median of the sum of the 10 sets\n",
    "    ascore = accuracy_score(trainY, y_mms)\n",
    "    f1 = f1_score(trainY, y_mms, average='weighted')\n",
    "    \n",
    "    totalAScore += ascore\n",
    "    totalf1 += f1\n",
    "    \n",
    "    counter += 1\n",
    "    \n",
    "totalAScore = totalAScore/10\n",
    "totalf1 += totalf1/10\n",
    "\n",
    "# print graph\n",
    "spam.PrintPlot(totalAScore, totalf1, ['Gauss', 'Multinomial', 'MinMax', 'Discrete'], \"Bayes Naif\")"
   ]
  },
  {
   "cell_type": "code",
   "execution_count": 6,
   "metadata": {},
   "outputs": [
    {
     "data": {
      "image/png": "[encoded data removed]",
      "text/plain": [
       "<Figure size 432x288 with 1 Axes>"
      ]
     },
     "metadata": {
      "needs_background": "light"
     },
     "output_type": "display_data"
    }
   ],
   "source": [
    "#Calcule de Metrics\n",
    "accuracy_score = np.array((asgnb, asmnb, asmms, askbd))\n",
    "f1_score = np.array([f1gnb,f1mnb,f1mms,f1kbd])\n",
    "\n",
    "df = pd.DataFrame(dict(x=accuracy_score,y=f1_score,label=['Gauss','Multinomial', 'MinMax','Discrete']))\n",
    "groups = df.groupby('label')\n",
    "\n",
    "fig, axe = plt.subplots()\n",
    "\n",
    "for name, group in groups:\n",
    "    axe.plot(group.x, group.y, marker='o', linestyle='', ms=12, label=name)\n",
    "axe.legend(numpoints=1, loc='upper left')\n",
    "plt.xlabel(\"Accuracy Score\")\n",
    "plt.ylabel(\"F1 Score\")\n",
    "plt.show()"
   ]
  },
  {
   "cell_type": "code",
   "execution_count": 9,
   "metadata": {},
   "outputs": [
    {
     "data": {
      "text/plain": [
       "10"
      ]
     },
     "execution_count": 9,
     "metadata": {},
     "output_type": "execute_result"
    }
   ],
   "source": [
    "kf = KFold(n_splits=10)\n",
    "\n",
    "kf.get_n_splits(X_minmax)"
   ]
  },
  {
   "cell_type": "markdown",
   "metadata": {},
   "source": [
    "## Introduction"
   ]
  },
  {
   "cell_type": "markdown",
   "metadata": {},
   "source": [
    "## Question 1\n",
    "### Méthode de création des ensembles de données"
   ]
  },
  {
   "cell_type": "markdown",
   "metadata": {},
   "source": [
    "## Question 1\n",
    "### Détails des ensembles produits"
   ]
  },
  {
   "cell_type": "markdown",
   "metadata": {},
   "source": [
    "## Question 2\n",
    "### Approche de validation proposée et justification"
   ]
  },
  {
   "cell_type": "markdown",
   "metadata": {},
   "source": [
    "## Question 3\n",
    "### Matrice des expérimentations"
   ]
  },
  {
   "cell_type": "markdown",
   "metadata": {},
   "source": [
    "## Question 3\n",
    "### Étude des hyperparamètres et des modèles"
   ]
  },
  {
   "cell_type": "markdown",
   "metadata": {},
   "source": [
    "## Question 4\n",
    "### Impact de la taille des ensembles de données sur la performance de classification"
   ]
  },
  {
   "cell_type": "markdown",
   "metadata": {},
   "source": [
    "## Question 5\n",
    "### Impact du bruit dans les ensembles de données sur la performance de classification"
   ]
  },
  {
   "cell_type": "markdown",
   "metadata": {},
   "source": [
    "## Question 6\n",
    "### Discussion sur la nature des données"
   ]
  },
  {
   "cell_type": "markdown",
   "metadata": {},
   "source": [
    "## Question 7\n",
    "### Recommandations"
   ]
  },
  {
   "cell_type": "markdown",
   "metadata": {},
   "source": [
    "## Question 8\n",
    "### Améliorations possibles"
   ]
  },
  {
   "cell_type": "markdown",
   "metadata": {},
   "source": [
    "## Conclusion"
   ]
  },
  {
   "cell_type": "markdown",
   "metadata": {},
   "source": [
    "## Bibliographie"
   ]
  }
 ],
 "metadata": {
  "kernelspec": {
   "display_name": "Python 3",
   "language": "python",
   "name": "python3"
  },
  "language_info": {
   "codemirror_mode": {
    "name": "ipython",
    "version": 3
   },
   "file_extension": ".py",
   "mimetype": "text/x-python",
   "name": "python",
   "nbconvert_exporter": "python",
   "pygments_lexer": "ipython3",
   "version": "3.6.6"
  }
 },
 "nbformat": 4,
 "nbformat_minor": 2
}
