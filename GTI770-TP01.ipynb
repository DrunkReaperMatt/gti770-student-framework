{
 "cells": [
  {
   "cell_type": "markdown",
   "metadata": {},
   "source": [
    "# Laboratoire 1 : Extraction de primitives\n",
    "#### Département du génie logiciel et des technologies de l’information\n",
    "\n",
    "| Étudiants             | Matthieu Pilon - PILM17089003, Alexis Lemelin - LEMA14109400, Robin St-Georges -        |\n",
    "|-----------------------|---------------------------------------------------------|\n",
    "| Cours                 | GTI770 - Systèmes intelligents et apprentissage machine |\n",
    "| Session               | A2018                                                   |\n",
    "| Groupe                | 02                                                      |\n",
    "| Numéro du laboratoire | 1                                                       |\n",
    "| Professeur            | Hervé Lombaert                                          |\n",
    "| Chargé de laboratoire | Pier-Luc Delisle                                        |\n",
    "| Date                  | DATE                                                    |"
   ]
  },
  {
   "cell_type": "code",
   "execution_count": 63,
   "metadata": {},
   "outputs": [],
   "source": [
    "import numpy as np\n",
    "import cv2\n",
    "from sklearn import tree\n",
    "from skimage import io\n",
    "from PIL import Image\n",
    "from core.feature_extraction.galaxy import galaxy_processor \n",
    "\n",
    "import random as rand\n",
    "%matplotlib inline \n",
    "import matplotlib.pyplot as plt\n",
    "\n",
    "from sklearn.cross_validation import train_test_split\n",
    "from sklearn.metrics import accuracy_score\n",
    "from sklearn.tree import DecisionTreeClassifier\n",
    "import matplotlib.pyplot"
   ]
  },
  {
   "cell_type": "code",
   "execution_count": 47,
   "metadata": {},
   "outputs": [
    {
     "name": "stdout",
     "output_type": "stream",
     "text": [
      "checkpoint 1\n",
      "checkpoint 2\n"
     ]
    }
   ],
   "source": [
    "imgPath = \"data/images/\"\n",
    "gp = galaxy_processor.GalaxyProcessor(imgPath)\n",
    "\n",
    "galaxyDict = []\n",
    "imgDict = []\n",
    "\n",
    "# définition des classes\n",
    "classes = [\"smooth\",\"spiral\"]\n",
    "\n",
    "# matrice x contenant toutes les images (nombre d'image, nombre de canaux(RGB), hauteur, largeur)\n",
    "x = []\n",
    "\n",
    "# matrice y contenant les étiquettes (nombre d'image, la classe)\n",
    "y = []\n",
    "\n",
    "# matrice primInfo contenant les informations voulues des images (nombre d'image, % ratio pixel blanc vs pixel noir, \n",
    "# ratio bleu rouge, différence de distance du point le plus brillant au \n",
    "# point noir le plus proche horizontallement et verticallement)\n",
    "primInfo = []\n",
    "\n",
    "# matrice contenant les images \n",
    "img_list = []\n",
    "\n",
    "print(\"checkpoint 1\")\n",
    "\n",
    "with open(\"data/csv/galaxy/galaxy_label_data_set.csv\") as fid:    # Execute la lecture du fichier et le ferme automatiqument apres la sortie du bloc de code\n",
    "    fid.readline()\n",
    "    next(fid)    # Skip la premiere ligne du fichier (id, classe)\n",
    "    for line in fid:\n",
    "        # séparation des informations    \n",
    "        currentLineInfo = line.split(',')\n",
    "\n",
    "        # localiser l'image et obtenir les informations voulues\n",
    "        img = io.imread(imgPath + currentLineInfo[0] + '.jpg')\n",
    "\n",
    "        # obtenir les informations de l'image\n",
    "        imgInformations = img.shape\n",
    "\n",
    "        # ajouter les informations pertinentes aux listes\n",
    "        x.append([currentLineInfo[0],imgInformations[2],imgInformations[0],imgInformations[1]])\n",
    "        y.append([currentLineInfo[0],currentLineInfo[1].rstrip()])\n",
    "\n",
    "        # sauvegarde de l'image dans la liste\n",
    "        img_list.append(img)\n",
    "    print(\"checkpoint 2\")   \n",
    "  "
   ]
  },
  {
   "cell_type": "code",
   "execution_count": 48,
   "metadata": {},
   "outputs": [
    {
     "name": "stdout",
     "output_type": "stream",
     "text": [
      "checkpoint 3\n",
      "checkpoint 4\n"
     ]
    }
   ],
   "source": [
    "# compteur d'acces\n",
    "pos = 0\n",
    "\n",
    "print (\"checkpoint 3\")\n",
    "\n",
    "# trouver les informations des primitives et les mettre dans la matrice des primitives\n",
    "for img in img_list:\n",
    "    #variables compteur\n",
    "    compteurBlanc = 0\n",
    "    compteurNoir = 0\n",
    "    \n",
    "    # Ratio\n",
    "    \n",
    "    # converti l'image en grayscale\n",
    "    img_grayscale = np.array(Image.fromarray(img).convert('L'))\n",
    "    \n",
    "    # défini grace a numpi si un pixel doit être noir ou blanc dans le tableau\n",
    "    black_white_array = np.asarray(img_grayscale).copy()\n",
    "    black_white_array[black_white_array < 128] = 0\n",
    "    black_white_array[black_white_array >= 128] = 255\n",
    "    \n",
    "    #compter combier des pixel blanc et noir sont dans l'image\n",
    "    for pixelrow in black_white_array:\n",
    "        for pixel in pixelrow:\n",
    "            if pixel == 255:\n",
    "                compteurBlanc += 1\n",
    "            elif pixel == 0:\n",
    "                compteurNoir += 1\n",
    "    \n",
    "    #calcule du % grâce au nombre de pixel blanc et noir\n",
    "    centi = (compteurBlanc / (compteurBlanc + compteurNoir)) *100 \n",
    "    \n",
    "    # ratio bleu/rouge\n",
    "    nbBleu = 0\n",
    "    nbRouge = 0\n",
    "    \n",
    "    # on trouve le nombre de bleu\n",
    "    bleuMini = np.array([155,0,0], np.uint8)\n",
    "    bleuMax = np.array([255,50,50], np.uint8)\n",
    "    \n",
    "    newImageArray = cv2.inRange(img, bleuMini, bleuMax)\n",
    "    nbBleu = cv2.countNonZero(newImageArray)\n",
    "    \n",
    "    # on trouve le nombre de rouge\n",
    "    rougeMini = np.array([0,0,155], np.uint8)\n",
    "    rougeMax = np.array([50,50,255], np.uint8)\n",
    "    \n",
    "    newImageArray = cv2.inRange(img, rougeMini, rougeMax)\n",
    "    nbRouge = cv2.countNonZero(newImageArray)\n",
    "    \n",
    "    # création du ratio\n",
    "    if(nbRouge != 0):\n",
    "        RatioBleuRouge = nbBleu / nbRouge \n",
    "    elif(nbRouge == 0):\n",
    "        if(nbBleu == 0):\n",
    "            RatioBleuRouge = 1\n",
    "        else:\n",
    "            RatioBleuRouge = nbBleu\n",
    "    \n",
    "    # Distance\n",
    "    distance = 0\n",
    "    \n",
    "    # trouver le point le plus brillant\n",
    "    imgCopy = img\n",
    "    grayScaleCopy = np.asarray(img_grayscale).copy()\n",
    "    grayScaleCopy = cv2.GaussianBlur(grayScaleCopy,( 15, 15), 0)\n",
    "    (minVal, maxVal, minLoc, maxLoc) = cv2.minMaxLoc(img_grayscale)\n",
    "    cv2.circle(imgCopy, maxLoc, 15, (255, 0, 0), 2)\n",
    "    \n",
    "    # compteur vertical et horizontal\n",
    "    compteurVert = maxLoc[1]\n",
    "    compteurHori = maxLoc[0]\n",
    "    distanceCompteur = 0\n",
    "    \n",
    "    # loop verticallement et horizontalement\n",
    "    while (compteurVert < x[pos][2] and distance == 0):\n",
    "        \n",
    "        #check + initialisation de la distance\n",
    "        if(black_white_array[maxLoc[0]][compteurVert] == 0):\n",
    "            distance = distanceCompteur\n",
    "            \n",
    "        #incrémentation\n",
    "        distanceCompteur += 1\n",
    "        compteurVert += 1\n",
    "        \n",
    "    compteurVert = maxLoc[1]\n",
    "    compteurHori = maxLoc[0]\n",
    "    distanceCompteur = 0\n",
    "    newDistance = 0\n",
    "    \n",
    "    while (compteurVert > 0 and newDistance == 0):\n",
    "        \n",
    "        #check + initialisation de la distance\n",
    "        if(black_white_array[maxLoc[0]][compteurVert] == 0):\n",
    "            newDistance = distanceCompteur\n",
    "            \n",
    "        #incrémentation\n",
    "        distanceCompteur += 1\n",
    "        compteurVert -= 1\n",
    "    \n",
    "    # regarder laquelle est la plus grande\n",
    "    if distance < newDistance:\n",
    "        distanceV = newDistance\n",
    "    else:\n",
    "        distanceV = distance\n",
    "        \n",
    "    #reset variables\n",
    "    compteurVert = maxLoc[1]\n",
    "    compteurHori = maxLoc[0]\n",
    "    distanceCompteur = 0\n",
    "    newDistance = 0\n",
    "    distance = 0\n",
    "    \n",
    "     # loop verticallement et horizontalement\n",
    "    while (compteurHori < x[pos][3] and distance == 0):\n",
    "        \n",
    "        #check + initialisation de la distance\n",
    "        if(black_white_array[compteurHori][maxLoc[1]] == 0):\n",
    "            distance = distanceCompteur\n",
    "            \n",
    "        #incrémentation\n",
    "        distanceCompteur += 1\n",
    "        compteurHori += 1\n",
    "        \n",
    "    compteurVert = maxLoc[1]\n",
    "    compteurHori = maxLoc[0]\n",
    "    distanceCompteur = 0\n",
    "    newDistance = 0\n",
    "    \n",
    "    while (compteurHori > 0 and newDistance == 0):\n",
    "        \n",
    "        #check + initialisation de la distance\n",
    "        if(black_white_array[compteurHori][maxLoc[1]] == 0):\n",
    "            newDistance = distanceCompteur\n",
    "            \n",
    "        #incrémentation\n",
    "        distanceCompteur += 1\n",
    "        compteurHori -= 1\n",
    "        \n",
    "    # regarder laquelle est la plus grande\n",
    "    if distance < newDistance:\n",
    "        distanceH = newDistance\n",
    "    else:\n",
    "        distanceH = distance\n",
    "    \n",
    "    '''\n",
    "    # afficher le point le plus brillant comme vérification\n",
    "    plt.imshow(imgCopy)\n",
    "    plt.show()\n",
    "    print(maxLoc)\n",
    "    '''\n",
    "    \n",
    "    # calculer les distances horizontales et verticales vers le point le plus noir\n",
    "    \n",
    "    FinalDistance = abs(distanceH - distanceV)\n",
    "    \n",
    "    # sauvegarde des informations des primitives dans la liste\n",
    "    primInfo.append([x[pos][0], centi, RatioBleuRouge, FinalDistance])\n",
    "\n",
    "    '''\n",
    "    # printing test to see if all is right\n",
    "    print(x[pos][0])\n",
    "    print(RatioBleuRouge)\n",
    "    print(FinalDistance)\n",
    "    '''\n",
    "    \n",
    "    # incremantation du comteur\n",
    "    pos  += 1\n",
    "    \n",
    "print (\"checkpoint 4\")\n",
    "\n"
   ]
  },
  {
   "cell_type": "code",
   "execution_count": null,
   "metadata": {},
   "outputs": [],
   "source": []
  },
  {
   "cell_type": "code",
   "execution_count": 49,
   "metadata": {},
   "outputs": [],
   "source": [
    "X = primInfo\n",
    "Y = []\n",
    "\n",
    "counter = 0\n",
    "for yi in y:\n",
    "    Y.append(y[counter][1]) \n",
    "    counter += 1\n",
    "    \n",
    "\n",
    "\n",
    "X_train, X_test, Y_train, Y_test = train_test_split(X, Y, test_size = 0.2, random_state = 4)"
   ]
  },
  {
   "cell_type": "code",
   "execution_count": 38,
   "metadata": {},
   "outputs": [
    {
     "name": "stdout",
     "output_type": "stream",
     "text": [
      "[['100134', 0.0211374154503382, 1, 0], ['100322', 0.2453052687789249, 1, 4], ['100380', 0.06953097187611249, 1, 1], ['100458', 0.32262370950516195, 1, 1], ['100479', 1.2704699181203274, 1, 3], ['100520', 0.1318307226771093, 1, 4], ['100672', 0.40105464578141686, 2, 0], ['100673', 0.9261525453898184, 1, 0], ['100724', 1.6014373442506231, 1, 5], ['100727', 0.127936988252047, 1, 1], ['100765', 0.2536489854040584, 1, 0], ['100801', 0.6613786044855821, 1, 0]]\n"
     ]
    }
   ],
   "source": [
    "print(X)"
   ]
  },
  {
   "cell_type": "code",
   "execution_count": 67,
   "metadata": {},
   "outputs": [
    {
     "data": {
      "image/png": "[encoded data removed]",
      "text/plain": [
       "<Figure size 432x288 with 1 Axes>"
      ]
     },
     "metadata": {
      "needs_background": "light"
     },
     "output_type": "display_data"
    },
    {
     "data": {
      "image/png": "[encoded data removed]",
      "text/plain": [
       "<Figure size 432x288 with 1 Axes>"
      ]
     },
     "metadata": {
      "needs_background": "light"
     },
     "output_type": "display_data"
    },
    {
     "data": {
      "image/png": "[encoded data removed]",
      "text/plain": [
       "<Figure size 432x288 with 1 Axes>"
      ]
     },
     "metadata": {
      "needs_background": "light"
     },
     "output_type": "display_data"
    },
    {
     "name": "stdout",
     "output_type": "stream",
     "text": [
      "0.3\n",
      "0.4\n",
      "0.3\n",
      "0.3\n",
      "0.3\n",
      "0.3\n"
     ]
    }
   ],
   "source": [
    "## Plot graphiques\n",
    "# tracage des différent graphiques pour déterminer le pouvoir discriminent des primitives \n",
    "ratioPrimitive = []\n",
    "bleuRougePrimitive = []\n",
    "distancePrimitive = []\n",
    "colorList = []\n",
    "\n",
    "# on sépare le tableau principale pour montrer les primitives dans leur propre graphique\n",
    "for infoLine in primInfo:\n",
    "    ratioPrimitive.append(infoLine[0])\n",
    "    bleuRougePrimitive.append(infoLine[1])\n",
    "    distancePrimitive.append(infoLine[2])\n",
    "    colorList.append('red')\n",
    "\n",
    "x = bleuRougePrimitive\n",
    "y = ratioPrimitive\n",
    "\n",
    "plt.plot(x,y,'o')\n",
    "plt.xlabel('bleu rouge ratio')\n",
    "plt.ylabel('Ratio(%)')\n",
    "plt.title('Ratio bleu rouge vs ratio blanc noir')\n",
    "plt.grid(True)\n",
    "plt.show()\n",
    "\n",
    "x = bleuRougePrimitive\n",
    "y = distancePrimitive\n",
    "\n",
    "plt.plot(x,y,'o')\n",
    "plt.xlabel('bleu rouge ratio')\n",
    "plt.ylabel('distance au point le plus brillant')\n",
    "plt.title('Ratio bleu rouge vs distance au point le plus brillant')\n",
    "plt.grid(True)\n",
    "plt.show()\n",
    "\n",
    "x = distancePrimitive\n",
    "y = ratioPrimitive\n",
    "\n",
    "plt.plot(x,y,'o')\n",
    "plt.xlabel('distance au point le plus brillant')\n",
    "plt.ylabel('Ratio(%)')\n",
    "plt.title('distance au point le plus brillant vs Ratio(%)')\n",
    "plt.grid(True)\n",
    "plt.show()\n",
    "\n",
    "\n",
    "\n",
    "tree= DecisionTreeClassifier()\n",
    "tree.fit(X_train, Y_train)\n",
    "Y_pred = tree.predict(X_test)\n",
    "print(accuracy_score(Y_test, Y_pred))\n",
    "\n",
    "tree= DecisionTreeClassifier(max_depth = 2)\n",
    "tree.fit(X_train, Y_train)\n",
    "Y_pred = tree.predict(X_test)\n",
    "print(accuracy_score(Y_test, Y_pred))\n",
    "\n",
    "tree= DecisionTreeClassifier(max_depth = 3)\n",
    "tree.fit(X_train, Y_train)\n",
    "Y_pred = tree.predict(X_test)\n",
    "print(accuracy_score(Y_test, Y_pred))\n",
    "\n",
    "tree= DecisionTreeClassifier(max_depth = 4)\n",
    "tree.fit(X_train, Y_train)\n",
    "Y_pred = tree.predict(X_test)\n",
    "print(accuracy_score(Y_test, Y_pred))\n",
    "\n",
    "tree= DecisionTreeClassifier(max_depth = 5)\n",
    "tree.fit(X_train, Y_train)\n",
    "Y_pred = tree.predict(X_test)\n",
    "print(accuracy_score(Y_test, Y_pred))\n",
    "\n",
    "tree= DecisionTreeClassifier(max_depth = 10)\n",
    "tree.fit(X_train, Y_train)\n",
    "Y_pred = tree.predict(X_test)\n",
    "print(accuracy_score(Y_test, Y_pred))\n",
    "\n",
    "\n"
   ]
  },
  {
   "cell_type": "markdown",
   "metadata": {},
   "source": [
    "## Introduction et revue de la littérature"
   ]
  },
  {
   "cell_type": "markdown",
   "metadata": {},
   "source": [
    "Ce laboratoire porte a nous initié aux pricipes de l'apprentissage machine avec le traitement d'image et la sélection de primitives. Le problème est de diférencier deux type de galaxy selon des images. Suite à l'étude de Devandre Dahmi, la classifiction de primitives était élaborer par certaines catégories afin d'y en choisir 3. Ceux choisi sont le ratio bleu rouge, le ratio noir blanc et la distance ecllipsial du noyau. \n",
    "\n",
    "En suivant les suggestion de Dahmi, ces primitives vont être essential à notre evaluation du dataset et l'intégration de la librairie cv2 de python permettera la codification de la théorie."
   ]
  },
  {
   "cell_type": "markdown",
   "metadata": {},
   "source": [
    "### Question 1"
   ]
  },
  {
   "cell_type": "markdown",
   "metadata": {},
   "source": [
    "Contrairement à ce que l’on pourrait croire, les galaxies sont plus difficiles à identifier qu’elles laissent croire. En effet, bien qu’elles possèdent plusieurs caractéristiques uniques qui aident, celles-ci sont souvent plutôt difficiles à identifier dû au bruit dans les images.\n",
    "Après avoir lu et effectuer nos recherches, plusieurs options possibles/pistes nous sont disponibles pour commencer notre analyse. Par exemple, il nous serait possible d’analyser les filtres de couleur des images, certains ratios, les filtres de Gabor générés ou encore les proportions des galaxies pour identifier leur type.\n"
   ]
  },
  {
   "cell_type": "markdown",
   "metadata": {},
   "source": [
    "### Question 2"
   ]
  },
  {
   "cell_type": "markdown",
   "metadata": {},
   "source": [
    "Afin de compléter le laboratoire, il nous a fallu trouver au minimum trois primitives. Pour trouver celles-ci, nous nous sommes principalement basé sur les options trouvées plus tôt. Celles-ci étant à leur tour basées sur les documents qui nous ont été fournis, ainsi que les quelques recherches que nous avons effectués sur le web.\n",
    "Après élimination des primitives qui nous semblaient superflues ou trop compliqué, nous avons décidé de sélectionner le ratio de blanc sur noir, le ratio des pixels bleus sur rouges et la différence entre la longueur verticale et horizontale partant du point le plus brillant de l'image comme primitives de notre analyse. Celles-ci nous semblaient les plus pertinentes tout en restant assez simple.\n"
   ]
  },
  {
   "cell_type": "markdown",
   "metadata": {},
   "source": [
    "### Question 3"
   ]
  },
  {
   "cell_type": "markdown",
   "metadata": {},
   "source": [
    "![alt text](https://cdn.discordapp.com/attachments/497400582441795634/499781253504172042/unknown.png)\n",
    "\n",
    "![alt text](https://media.discordapp.net/attachments/497400582441795634/499781482215374848/unknown.png)\n",
    "\n",
    "Le ratio bleu rouge et le ratio blanc noir sont des primitives discriminantes selon notre évaluation. Le graphique comporte une répartition de donné significative comparer aux autres combinaisons des primitives choisis. Les autres combinaisons sont tous regroupés sans distinctions. Par contre, la taille de l’échantillon limite la précision des primitives. À 50, le travail est trop petit pour être significatif."
   ]
  },
  {
   "cell_type": "markdown",
   "metadata": {},
   "source": [
    "### Question 4"
   ]
  },
  {
   "cell_type": "markdown",
   "metadata": {},
   "source": [
    "L’arbre de décision a donné le meilleur score de précision lorsque la profondeur est à 2 à 40%. Les autres profondeurs évaluer (aucune, 3, 4, 5 et 10) ont toutes retournés une précision d’environs 30%. Par contre, la taille de l’échantillon a été réduite à 50 afin d'adéquatement évaluer avec le temps constraint. La taille réduites a affecté la précision du résultat. Estimant que l’entièreté du dataset a été traité, une plus grande profondeur aura porté une plus grande précision. Par contre il faut prendre en compte le over et under fitting, jouez avec les paramètres afins de maximiser l’évaluation des donnés."
   ]
  },
  {
   "cell_type": "markdown",
   "metadata": {},
   "source": [
    "### Question 5"
   ]
  },
  {
   "cell_type": "markdown",
   "metadata": {},
   "source": [
    "Il nous aurait été possible d’ajouter un filtre de Gabor précis dans le but d’identifier certaines lignes droites possibles dans une galaxie particulière. Ceci nous aurait permis d’identifier par la suite avec une assez bonne précision les spirales visibles dans les galaxies."
   ]
  },
  {
   "cell_type": "markdown",
   "metadata": {},
   "source": [
    "### Conclusion"
   ]
  },
  {
   "cell_type": "markdown",
   "metadata": {},
   "source": [
    "À l’aide des revues scientifiques, déterminer les primitives était une tâche moins ardu que de les programmer. En évaluant la totalité du dataset, le temps d’exécution achevait deux heures, sinon plus. Évaluer la distance du noyau, le ratio des pixels grayscale et le ratio d’intensité rouge et bleu a permis d’obtenir un ratio de succès d’environs 40%. La précision faible des primitives est liée dans une implémentation en bloc qui a limité la performance globale en grugeant les ressources du processeur en traitant les 3 primitives une image à la fois. Implémenter un traitement parallèle et implémenter une mentalité plus orienté-objet, le résultat final aurait pu porter un traitement plus accélérer. Le travail fait en jupyter notebook a aussi causé quelque problème de synchronisation parmis l’équipe. Cependant, c’est un petit problème qui sera réglé d’ici la prochaine itération."
   ]
  },
  {
   "cell_type": "markdown",
   "metadata": {},
   "source": [
    "### Bibliographie"
   ]
  },
  {
   "cell_type": "markdown",
   "metadata": {},
   "source": [
    "Dhami, Devendra; (2015); Morphological classification of galaxies into spirals and non-spirals "
   ]
  },
  {
   "cell_type": "code",
   "execution_count": null,
   "metadata": {},
   "outputs": [],
   "source": []
  }
 ],
 "metadata": {
  "kernelspec": {
   "display_name": "Python 3",
   "language": "python",
   "name": "python3"
  },
  "language_info": {
   "codemirror_mode": {
    "name": "ipython",
    "version": 3
   },
   "file_extension": ".py",
   "mimetype": "text/x-python",
   "name": "python",
   "nbconvert_exporter": "python",
   "pygments_lexer": "ipython3",
   "version": "3.6.6"
  }
 },
 "nbformat": 4,
 "nbformat_minor": 2
}
