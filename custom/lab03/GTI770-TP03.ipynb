{
 "cells": [
  {
   "cell_type": "markdown",
   "metadata": {},
   "source": [
    "# Laboratoire 3 : Machines à vecteurs de support et réseaux neuronaux\n",
    "#### Département du génie logiciel et des technologies de l’information\n",
    "\n",
    "| Étudiants             | NOMS - CODE PERMANENT                                   |\n",
    "|-----------------------|---------------------------------------------------------|\n",
    "| Cours                 | GTI770 - Systèmes intelligents et apprentissage machine |\n",
    "| Session               | SAISON ANNÉE                                            |\n",
    "| Groupe                | X                                                       |\n",
    "| Numéro du laboratoire | X                                                       |\n",
    "| Professeur            | Prof. NOM                                               |\n",
    "| Chargé de laboratoire | NOM                                                     |\n",
    "| Date                  | DATE                                                    |"
   ]
  },
  {
   "cell_type": "code",
   "execution_count": 1,
   "metadata": {},
   "outputs": [],
   "source": [
    "from custom.lab03.matrix import Matrix\n",
    "from custom.lab03.classificateurs import NeuralNet\n",
    "import numpy as np\n",
    "import matplotlib.pyplot as plt\n",
    "import matplotlib.image as mpimg\n",
    "import pandas as pd\n",
    "from sklearn import preprocessing as pp\n",
    "\n",
    "\n",
    "import tensorflow as tf\n",
    "from sklearn.svm import SVC"
   ]
  },
  {
   "cell_type": "code",
   "execution_count": null,
   "metadata": {},
   "outputs": [],
   "source": [
    "## Parametre de training par defaut\n",
    "learn_rate = 5e-4\n",
    "batchsize = 100\n",
    "epochs = 60"
   ]
  },
  {
   "cell_type": "code",
   "execution_count": 2,
   "metadata": {},
   "outputs": [],
   "source": [
    "galaxy = Matrix(\"data/csv/galaxy/galaxy_feature_vectors.csv\")\n",
    "galaxy.ParseFile()\n",
    "\n",
    "galax = galaxy.getPrimitive(4,6,7,8,20,21,40,41,46,48,49,51,53,75)\n",
    "galax = galaxy.FloatArray(galax)\n",
    "\n",
    "train, valid = galaxy.CreateTestSet(galax, 20)"
   ]
  },
  {
   "cell_type": "code",
   "execution_count": null,
   "metadata": {},
   "outputs": [],
   "source": [
    "## Fetch data\n",
    "## Bonus Question\n",
    "### RUN AT YOUR OWN PERIL!!!!\n",
    "\n",
    "'''\n",
    "def getImage(path):\n",
    "    return mpimg.imread(path, 0)\n",
    "\n",
    "le = pp.LabelEncoder()\n",
    "\n",
    "dataset = pd.read_csv(\"data/csv/galaxy/galaxy_label_data_set.csv\")\n",
    "dataset['image'] = dataset.id.map(lambda id: f'data/images/{id}.jpg')\n",
    "dataset['image'] = dataset.image.map(lambda f: getImage(f))\n",
    "le.fit(dataset['class'])\n",
    "dataset['label'] = le.transform(dataset['class'])\n",
    "'''\n"
   ]
  },
  {
   "cell_type": "code",
   "execution_count": null,
   "metadata": {},
   "outputs": [],
   "source": [
    "'''\n",
    "plt.figure()\n",
    "plt.imshow(dataset['image'][0])\n",
    "plt.xticks([]), plt.yticks([])\n",
    "plt.show\n",
    "'''"
   ]
  },
  {
   "cell_type": "code",
   "execution_count": 3,
   "metadata": {},
   "outputs": [
    {
     "name": "stdout",
     "output_type": "stream",
     "text": [
      "[ 10.04080181  12.42390753  20.01964231  20.14510709 171.4004508\n",
      "  86.77114128   0.90570917   0.91089896  60.54944072  82.59749441\n",
      "  82.33139535 123.44978858   1.45234188   1.        ]\n"
     ]
    }
   ],
   "source": [
    "#train_image = dataset['image'][:100]\n",
    "#train_label = dataset['label'][:100]\n",
    "\n",
    "print(train[0])\n",
    "\n",
    "train_img = train[:1000]\n",
    "\n",
    "img = []\n",
    "label = []\n",
    "vImg=[]\n",
    "vLabel=[]\n",
    "\n",
    "for line in train:\n",
    "    img.append(line[:-1])\n",
    "    label.append(line[-1])\n",
    "    \n",
    "for line in valid:\n",
    "    vImg.append(line[:-1])\n",
    "    vLabel.append(line[-1])\n",
    "\n",
    "img = np.array(img)\n",
    "label = np.array(label)\n",
    "vImg = np.array(vImg)\n",
    "vLabel = np.array(vLabel)"
   ]
  },
  {
   "cell_type": "code",
   "execution_count": null,
   "metadata": {},
   "outputs": [],
   "source": [
    "# Definition du model\n",
    "net = NeuralNet()"
   ]
  },
  {
   "cell_type": "code",
   "execution_count": null,
   "metadata": {},
   "outputs": [],
   "source": [
    "# Model Par Default\n",
    "model = net.Model()\n",
    "model.fit(img, label, epochs=epochs, batch_size=batchsize)\n",
    "test_loss, test_acc = model.evaluate(vImg, vLabel)\n",
    "print (\"Test Loss: {0} -- Acc: {1}\".format(test_loss, test_acc))\n"
   ]
  },
  {
   "cell_type": "code",
   "execution_count": null,
   "metadata": {},
   "outputs": [],
   "source": [
    "model = net.Model(layers = 3)\n",
    "model.fit(img, label, epochs=100, batch_size=batchsize)\n",
    "test_loss, test_acc = model.evaluate(vImg, vLabel)\n",
    "print (\"Test Loss: {0} -- Acc: {1}\".format(test_loss, test_acc))"
   ]
  },
  {
   "cell_type": "code",
   "execution_count": 5,
   "metadata": {},
   "outputs": [
    {
     "data": {
      "text/plain": [
       "SVC(C=0.001, cache_size=200, class_weight=None, coef0=0.0,\n",
       "  decision_function_shape='ovr', degree=3, gamma='auto_deprecated',\n",
       "  kernel='linear', max_iter=-1, probability=False, random_state=None,\n",
       "  shrinking=True, tol=0.001, verbose=False)"
      ]
     },
     "execution_count": 5,
     "metadata": {},
     "output_type": "execute_result"
    }
   ],
   "source": [
    "### SVM\n",
    "\n",
    "svc = SVC(kernel='linear',C=1e-03)\n",
    "svc.fit(img,label)"
   ]
  },
  {
   "cell_type": "markdown",
   "metadata": {},
   "source": [
    "## Introduction"
   ]
  },
  {
   "cell_type": "markdown",
   "metadata": {},
   "source": [
    "## Question 1 \n",
    "### Présentation de la méthode de validation"
   ]
  },
  {
   "cell_type": "markdown",
   "metadata": {},
   "source": [
    "## Question 2\n",
    "### Description du modèle élaboré"
   ]
  },
  {
   "cell_type": "markdown",
   "metadata": {},
   "source": [
    "## Question 3\n",
    "### Analyse de la phase d'entraînement"
   ]
  },
  {
   "cell_type": "markdown",
   "metadata": {},
   "source": [
    "## Question 4\n",
    "### Matrice des expérimentations"
   ]
  },
  {
   "cell_type": "markdown",
   "metadata": {},
   "source": [
    "### Étude des hyperparamètres des modèles"
   ]
  },
  {
   "cell_type": "markdown",
   "metadata": {},
   "source": [
    "## Question 5\n",
    "### Matrice des expérimentations"
   ]
  },
  {
   "cell_type": "markdown",
   "metadata": {},
   "source": [
    "### Études des hyperparamètres des modèles"
   ]
  },
  {
   "cell_type": "markdown",
   "metadata": {},
   "source": [
    "## Question 6\n",
    "### Discussion de l'impact de la taille des données"
   ]
  },
  {
   "cell_type": "markdown",
   "metadata": {},
   "source": [
    "## Question 7\n",
    "### Discussion de l'impact du bruit"
   ]
  },
  {
   "cell_type": "markdown",
   "metadata": {},
   "source": [
    "## Question 8\n",
    "### Formulation des recommandations"
   ]
  },
  {
   "cell_type": "markdown",
   "metadata": {},
   "source": [
    "## Question 9\n",
    "### Améliorations possibles"
   ]
  },
  {
   "cell_type": "markdown",
   "metadata": {},
   "source": [
    "## Conclusion"
   ]
  },
  {
   "cell_type": "markdown",
   "metadata": {},
   "source": [
    "## Bibliographie"
   ]
  }
 ],
 "metadata": {
  "kernelspec": {
   "display_name": "Python 3",
   "language": "python",
   "name": "python3"
  },
  "language_info": {
   "codemirror_mode": {
    "name": "ipython",
    "version": 3
   },
   "file_extension": ".py",
   "mimetype": "text/x-python",
   "name": "python",
   "nbconvert_exporter": "python",
   "pygments_lexer": "ipython3",
   "version": "3.6.6"
  }
 },
 "nbformat": 4,
 "nbformat_minor": 2
}
